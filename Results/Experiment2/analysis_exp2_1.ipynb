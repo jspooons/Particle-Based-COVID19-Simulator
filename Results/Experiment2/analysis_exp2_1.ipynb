{
 "cells": [
  {
   "cell_type": "code",
   "execution_count": 28,
   "id": "dd42244f",
   "metadata": {},
   "outputs": [],
   "source": [
    "import pandas as pd\n",
    "import numpy as np\n",
    "import matplotlib.pyplot as plt"
   ]
  },
  {
   "cell_type": "markdown",
   "id": "a005f0c7",
   "metadata": {},
   "source": [
    "# Experiment 2.1"
   ]
  },
  {
   "cell_type": "code",
   "execution_count": 29,
   "id": "2116ecbd",
   "metadata": {},
   "outputs": [],
   "source": [
    "df1 = pd.read_csv(\"peaks_locs_1_1_0_0.csv\")\n",
    "d1 = df1.peaks/33700 * 100\n",
    "df2 = pd.read_csv(\"peaks_locs_1_2_1_1.csv\")\n",
    "d2 = df2.peaks/33700 * 100\n",
    "df3 = pd.read_csv(\"peaks_locs_1_3_1_2.csv\")\n",
    "d3 = df3.peaks/33700 * 100\n",
    "df4 = pd.read_csv(\"peaks_locs_1_4_1_3.csv\")\n",
    "d4 = df4.peaks/33700 * 100\n",
    "df5 = pd.read_csv(\"peaks_locs_1_5_1_4.csv\")\n",
    "d5 = df5.peaks/33700 * 100\n",
    "df6 = pd.read_csv(\"peaks_locs_1_6_1_5.csv\")\n",
    "d6 = df6.peaks/33700 * 100"
   ]
  },
  {
   "cell_type": "code",
   "execution_count": 61,
   "id": "3e981db6",
   "metadata": {},
   "outputs": [],
   "source": [
    "data = [d1,d2,d3,d4,d5,d6]\n",
    "data2 = [df1.locaitons,df2.locaitons,df3.locaitons,df4.locaitons,df5.locaitons,df6.locaitons]\n",
    "means = []\n",
    "stds = []\n",
    "mean_locs = []\n",
    "std_locs = []\n",
    "for i in range(6):\n",
    "    means.append(np.mean(data[i]))\n",
    "    stds.append(np.std(data[i]))\n",
    "    mean_locs.append(np.mean(data2[i]))\n",
    "    std_locs.append(np.std(data2[i]))"
   ]
  },
  {
   "cell_type": "code",
   "execution_count": 31,
   "id": "02c198c0",
   "metadata": {},
   "outputs": [
    {
     "data": {
      "text/plain": [
       "[76.47019667435116,\n",
       " 30.99650770029171,\n",
       " 95.72630767400163,\n",
       " 77.88919040660163,\n",
       " 74.9633502193756,\n",
       " 70.68526714314608]"
      ]
     },
     "execution_count": 31,
     "metadata": {},
     "output_type": "execute_result"
    }
   ],
   "source": [
    "mean_locs"
   ]
  },
  {
   "cell_type": "code",
   "execution_count": 32,
   "id": "f148efff",
   "metadata": {},
   "outputs": [
    {
     "data": {
      "text/plain": [
       "[0.8022627726498484,\n",
       " 13.413766539988597,\n",
       " 11.791127286143636,\n",
       " 5.804627362118641,\n",
       " 4.9594374710922295,\n",
       " 4.780198476815031]"
      ]
     },
     "execution_count": 32,
     "metadata": {},
     "output_type": "execute_result"
    }
   ],
   "source": [
    "std_locs"
   ]
  },
  {
   "cell_type": "code",
   "execution_count": 33,
   "id": "c39e87eb",
   "metadata": {
    "scrolled": true
   },
   "outputs": [
    {
     "data": {
      "text/plain": [
       "[3.921364985163204,\n",
       " 0.04035608308605341,\n",
       " 7.803560830860535,\n",
       " 22.612462908011867,\n",
       " 29.020178041543026,\n",
       " 33.791691394658756]"
      ]
     },
     "execution_count": 33,
     "metadata": {},
     "output_type": "execute_result"
    }
   ],
   "source": [
    "means"
   ]
  },
  {
   "cell_type": "code",
   "execution_count": 34,
   "id": "53127669",
   "metadata": {},
   "outputs": [
    {
     "data": {
      "text/plain": [
       "[1.7596270284066025,\n",
       " 0.01776454545649349,\n",
       " 1.7606713340059523,\n",
       " 2.000121596388109,\n",
       " 1.5664737611521968,\n",
       " 0.8902203757754505]"
      ]
     },
     "execution_count": 34,
     "metadata": {},
     "output_type": "execute_result"
    }
   ],
   "source": [
    "stds"
   ]
  },
  {
   "cell_type": "code",
   "execution_count": 81,
   "id": "5ce1dd3d",
   "metadata": {},
   "outputs": [
    {
     "data": {
      "image/png": "[encoded data removed]",
      "text/plain": [
       "<Figure size 432x288 with 1 Axes>"
      ]
     },
     "metadata": {
      "needs_background": "light"
     },
     "output_type": "display_data"
    }
   ],
   "source": [
    "fig = plt.figure(figsize =(6, 4))\n",
    "\n",
    "ax = fig.add_axes([0, 0, 1, 1])\n",
    " \n",
    "# Creating plot\n",
    "c='red'\n",
    "bp = plt.boxplot(data,\n",
    "            #boxprops=dict(facecolor='white', color=c),\n",
    "            #capprops=dict(color=c),\n",
    "            #whiskerprops=dict(color=c),\n",
    "            #flierprops=dict(color=c, markeredgecolor=c),\n",
    "            #medianprops=dict(color=c),\n",
    "            )\n",
    "\n",
    "\n",
    "\n",
    "plt.ylabel('Infectious Peak Size, %', fontsize=15)\n",
    "plt.xlabel('Growth Factor', fontsize=15)\n",
    "ax.set_xticklabels(['Original Sim.', 1, 2, 3, 4, 5], fontsize=12)\n",
    "#plt.legend(fontsize=15)\n",
    " \n",
    "# show plot\n",
    "plt.show()"
   ]
  },
  {
   "cell_type": "code",
   "execution_count": 82,
   "id": "e02a9cd6",
   "metadata": {},
   "outputs": [
    {
     "data": {
      "image/png": "[encoded data removed]",
      "text/plain": [
       "<Figure size 432x288 with 1 Axes>"
      ]
     },
     "metadata": {
      "needs_background": "light"
     },
     "output_type": "display_data"
    }
   ],
   "source": [
    "fig = plt.figure(figsize =(6, 4))\n",
    "\n",
    "ax = fig.add_axes([0, 0, 1, 1])\n",
    " \n",
    "# Creating plot\n",
    "c='red'\n",
    "bp = plt.boxplot(data2,\n",
    "            #boxprops=dict(facecolor='white', color=c),\n",
    "            #capprops=dict(color=c),\n",
    "            #whiskerprops=dict(color=c),\n",
    "            #flierprops=dict(color=c, markeredgecolor=c),\n",
    "            #medianprops=dict(color=c),\n",
    "            )\n",
    "\n",
    "\n",
    "\n",
    "plt.ylabel('Infectious Peak Location, (Day)', fontsize=15)\n",
    "ax.set_xticklabels(['Original Sim.', 1, 2, 3, 4, 5], fontsize=12)\n",
    "plt.xlabel('Growth Factor', fontsize=15)\n",
    "#plt.legend(fontsize=15)\n",
    " \n",
    "# show plot\n",
    "plt.show()"
   ]
  },
  {
   "cell_type": "code",
   "execution_count": null,
   "id": "c076d13e",
   "metadata": {},
   "outputs": [],
   "source": []
  }
 ],
 "metadata": {
  "kernelspec": {
   "display_name": "Python 3 (ipykernel)",
   "language": "python",
   "name": "python3"
  },
  "language_info": {
   "codemirror_mode": {
    "name": "ipython",
    "version": 3
   },
   "file_extension": ".py",
   "mimetype": "text/x-python",
   "name": "python",
   "nbconvert_exporter": "python",
   "pygments_lexer": "ipython3",
   "version": "3.9.7"
  }
 },
 "nbformat": 4,
 "nbformat_minor": 5
}
